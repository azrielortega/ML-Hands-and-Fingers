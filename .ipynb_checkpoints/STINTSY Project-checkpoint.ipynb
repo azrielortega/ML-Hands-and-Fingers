{
 "cells": [
  {
   "cell_type": "markdown",
   "id": "4b7dffb1",
   "metadata": {},
   "source": [
    "# STINTSY Technical Document"
   ]
  },
  {
   "cell_type": "markdown",
   "id": "fd25d514",
   "metadata": {},
   "source": [
    "### Group FOP:\n",
    "- Keil Christopher Finez\n",
    "- Azriel Matthew Ortega\n",
    "- James Andrew Perez"
   ]
  },
  {
   "cell_type": "markdown",
   "id": "43250502",
   "metadata": {},
   "source": [
    "## Description of the Dataset and Task\n",
    "- An overview or description of the data is provided, including how it was collected, and its implications on the types of conclusions that could be made from the data. A description of the variables, observations, and/or structure of the data is provided. The target task is well introduced and clearly defined."
   ]
  },
  {
   "cell_type": "code",
   "execution_count": null,
   "id": "de6a494a",
   "metadata": {},
   "outputs": [],
   "source": []
  },
  {
   "cell_type": "markdown",
   "id": "5ffb1e69",
   "metadata": {},
   "source": [
    "## Exploratory data analysis\n",
    "-  Appropriate summaries and visualizations are presented. Insights into how the EDA can help the model training is mentioned."
   ]
  },
  {
   "cell_type": "markdown",
   "id": "b4d247cd",
   "metadata": {},
   "source": [
    "## Data pre-processing and cleaning\n",
    " - If no preprocessing or cleaning is done, there is a justification on why it was not needed."
   ]
  },
  {
   "cell_type": "markdown",
   "id": "6aa3d249",
   "metadata": {},
   "source": [
    "## Model Training\n",
    "- The appropriate models are used to accomplish the machine learning task. Justification of choosing the models is shown."
   ]
  },
  {
   "cell_type": "markdown",
   "id": "1ec82e01",
   "metadata": {},
   "source": [
    "## Model selection and hyperparameter tuning\n",
    "- Appropriate data-driven error analysis is made, and changes to the model selection and hyperparameters are performed to improve model performance. The study exhausts improvements that can be done to the model"
   ]
  }
 ],
 "metadata": {
  "kernelspec": {
   "display_name": "Python 3 (ipykernel)",
   "language": "python",
   "name": "python3"
  },
  "language_info": {
   "codemirror_mode": {
    "name": "ipython",
    "version": 3
   },
   "file_extension": ".py",
   "mimetype": "text/x-python",
   "name": "python",
   "nbconvert_exporter": "python",
   "pygments_lexer": "ipython3",
   "version": "3.8.5"
  }
 },
 "nbformat": 4,
 "nbformat_minor": 5
}
